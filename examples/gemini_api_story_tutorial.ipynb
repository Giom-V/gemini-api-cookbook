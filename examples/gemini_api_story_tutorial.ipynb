{
 "cells": [
  {
   "cell_type": "markdown",
   "metadata": {},
   "source": [
    "# Gemini API: A Story-driven Tutorial\n",
    "\n",
    "Welcome to this story-driven tutorial for the Gemini API! This guide is designed for developers who are new to the Gemini API and want a fun, engaging way to learn about its capabilities. We'll go on a journey to create a children's story, and along the way, we'll explore various features of the Gemini API.\n",
    "\n",
    "In this notebook, you will learn how to:\n",
    "- Generate creative text for characters and stories.\n",
    "- Use structured output (JSON mode) to organize your content.\n",
    "- Ground your story in real-world information using web search.\n",
    "- Use the model to analyze and describe video content from a YouTube link.\n",
    "- Generate a title for your story.\n",
    "- Create a cover for your book using the image generation model."
   ]
  },
  {
   "cell_type": "markdown",
   "metadata": {},
   "source": [
    "## Setup"
   ]
  },
  {
   "cell_type": "markdown",
   "metadata": {},
   "source": [
    "### Install the Python SDK"
   ]
  },
  {
   "cell_type": "code",
   "execution_count": null,
   "metadata": {},
   "outputs": [],
   "source": [
    "%pip install -q -U 'google-genai>=1.0.0' pytube"
   ]
  },
  {
   "cell_type": "markdown",
   "metadata": {},
   "source": [
    "### Configure your API key\n",
    "\n",
    "To use the Gemini API, you'll need an API key. If you don't already have one, create a key in Google AI Studio.\n",
    "\n",
    "In Colab, add the key to the secrets manager under the \"🔑\" in the left panel. Give it the name `GEMINI_API_KEY`."
   ]
  },
  {
   "cell_type": "code",
   "execution_count": null,
   "metadata": {},
   "outputs": [],
   "source": [
    "from google.colab import userdata\n",
    "from google import genai\n",
    "from google.genai import types\n",
    "import pathlib\n",
    "import time\n",
    "\n",
    "GEMINI_API_KEY = userdata.get('GEMINI_API_KEY')\n",
    "client = genai.Client(api_key=GEMINI_API_KEY)"
   ]
  },
  {
   "cell_type": "markdown",
   "metadata": {},
   "source": [
    "### Choose a model"
   ]
  },
  {
   "cell_type": "code",
   "execution_count": null,
   "metadata": {},
   "outputs": [],
   "source": [
    "MODEL_ID = \"gemini-1.5-pro-latest\""
   ]
  },
  {
   "cell_type": "markdown",
   "metadata": {},
   "source": [
    "## Character and Story Creation\n",
    "\n",
    "Let's start by creating the main characters for our story. We'll use a simple text prompt to ask the Gemini API to come up with a character."
   ]
  },
  {
   "cell_type": "code",
   "execution_count": null,
   "metadata": {},
   "outputs": [],
   "source": [
    "prompt = \"Create a fun and adventurous character for a children's story. The character is an animal who loves to explore.\"\n",
    "response = client.generate_content(model=MODEL_ID, contents=prompt)\n",
    "\n",
    "print(response.text)"
   ]
  },
  {
   "cell_type": "markdown",
   "metadata": {},
   "source": [
    "Now that we have our main character, let's create a sidekick for them."
   ]
  },
  {
   "cell_type": "code",
   "execution_count": null,
   "metadata": {},
   "outputs": [],
   "source": [
    "prompt = \"Our main character is a curious and brave fox named Felix. Create a sidekick for Felix who is a bit clumsy but very loyal.\"\n",
    "response = client.generate_content(model=MODEL_ID, contents=prompt)\n",
    "\n",
    "print(response.text)"
   ]
  },
  {
   "cell_type": "markdown",
   "metadata": {},
   "source": [
    "With our characters ready, let's generate a basic story outline."
   ]
  },
  {
   "cell_type": "code",
   "execution_count": null,
   "metadata": {},
   "outputs": [],
   "source": [
    "prompt = \"Create a story outline about Felix the fox and his sidekick, a clumsy but loyal badger named Barnaby. Their adventure involves traveling to Paris for the Olympic games.\"\n",
    "response = client.generate_content(model=MODEL_ID, contents=prompt)\n",
    "\n",
    "print(response.text)"
   ]
  },
  {
   "cell_type": "markdown",
   "metadata": {},
   "source": [
    "## Structured Output for Characters and Chapters\n",
    "\n",
    "To better organize our story, we can use the JSON mode to get structured output from the Gemini API. This is useful when you need the model to return data in a specific format.\n",
    "\n",
    "Let's start by defining our characters using a Pydantic model."
   ]
  },
  {
   "cell_type": "code",
   "execution_count": null,
   "metadata": {},
   "outputs": [],
   "source": [
    "from pydantic import BaseModel\n",
    "import json\n",
    "\n",
    "class Character(BaseModel):\n",
    "    name: str\n",
    "    species: str\n",
    "    description: str\n",
    "\n",
    "prompt = \"Generate a list of JSON objects for the characters Felix the fox and Barnaby the badger, following the provided schema.\"\n",
    "\n",
    "response = client.generate_content(\n",
    "    model=MODEL_ID,\n",
    "    contents=prompt,\n",
    "    generation_config=types.GenerationConfig(\n",
    "        response_mime_type=\"application/json\",\n",
    "        response_schema=[Character]\n",
    "    )\n",
    ")\n",
    "\n",
    "print(response.text)"
   ]
  },
  {
   "cell_type": "markdown",
   "metadata": {},
   "source": [
    "Now, let's create the chapters of our book in a structured format."
   ]
  },
  {
   "cell_type": "code",
   "execution_count": null,
   "metadata": {},
   "outputs": [],
   "source": [
    "class Chapter(BaseModel):\n",
    "    chapter_number: int\n",
    "    title: str\n",
    "    summary: str\n",
    "\n",
    "prompt = \"Generate a list of chapters for a children's story about Felix the fox and Barnaby the badger traveling to the Paris Olympics. The story should have at least 5 chapters.\"\n",
    "\n",
    "response = client.generate_content(\n",
    "    model=MODEL_ID,\n",
    "    contents=prompt,\n",
    "    generation_config=types.GenerationConfig(\n",
    "        response_mime_type=\"application/json\",\n",
    "        response_schema=[Chapter]\n",
    "    )\n",
    ")\n",
    "\n",
    "print(response.text)"
   ]
  },
  {
   "cell_type": "markdown",
   "metadata": {},
   "source": [
    "## Grounding with Web Search and Video\n",
    "\n",
    "To make our story more engaging and educational, we can ground it in real-world information. The grounding feature allows the Gemini API to use Google Search to get up-to-date information about a topic."
   ]
  },
  {
   "cell_type": "code",
   "execution_count": null,
   "metadata": {},
   "outputs": [],
   "source": [
    "prompt = \"Describe the opening ceremony of the Paris Olympic games. This will be for a children's story, so keep it simple and exciting.\"\n",
    "response = client.generate_content(\n",
    "    model=MODEL_ID,\n",
    "    contents=prompt,\n",
    "    tools=[types.Tool(google_search=types.GoogleSearch())]\n",
    ")\n",
    "\n",
    "print(response.text)"
   ]
  },
  {
   "cell_type": "markdown",
   "metadata": {},
   "source": [
    "We can also use the Gemini API to analyze video content. Let's ask the model to describe a scene from the Paris Olympics opening ceremony using a YouTube link."
   ]
  },
  {
   "cell_type": "code",
   "execution_count": null,
   "metadata": {},
   "outputs": [],
   "source": [
    "from pytube import YouTube\n",
    "\n",
    "youtube_url = \"https://www.youtube.com/watch?v=xtlvuPxNKWI\"\n",
    "yt = YouTube(youtube_url)\n",
    "stream = yt.streams.get_highest_resolution()\n",
    "video_path = stream.download()\n",
    "\n",
    "video_file = client.files.upload(path=video_path)\n",
    "\n",
    "while video_file.state.name == \"PROCESSING\":\n",
    "    print('Waiting for video to be processed.')\n",
    "    time.sleep(10)\n",
    "    video_file = client.files.get(name=video_file.name)\n",
    "\n",
    "if video_file.state.name == \"FAILED\":\n",
    "  raise ValueError(video_file.error.message)\n",
    "\n",
    "prompt = \"Watch this video and describe the scene at the 1:30 mark.\"\n",
    "response = client.generate_content(model=MODEL_ID, contents=[prompt, video_file])\n",
    "\n",
    "print(response.text)"
   ]
  },
  {
   "cell_type": "markdown",
   "metadata": {},
   "source": [
    "## Generating a Title\n",
    "\n",
    "Every good story needs a title! Let's ask Gemini to come up with a few options."
   ]
  },
  {
   "cell_type": "code",
   "execution_count": null,
   "metadata": {},
   "outputs": [],
   "source": [
    "title_model = \"gemini-1.5-flash-latest\"\n",
    "prompt = \"Suggest three titles for a children's story about a fox named Felix and a badger named Barnaby who go to the Paris Olympics.\"\n",
    "response = client.generate_content(model=title_model, contents=prompt)\n",
    "\n",
    "print(response.text)"
   ]
  },
  {
   "cell_type": "markdown",
   "metadata": {},
   "source": [
    "## Generating a Book Cover\n",
    "\n",
    "Now for the final touch: a book cover! We can use an image generation model to create a beautiful cover for our story."
   ]
  },
  {
   "cell_type": "code",
   "execution_count": null,
   "metadata": {},
   "outputs": [],
   "source": [
    "from IPython.display import Image, display\n",
    "\n",
    "prompt = \"Create a book cover for a children's story. The title is 'Felix and Barnaby's Parisian Adventure'. The cover should feature a friendly fox and a clumsy badger in Paris, with the Eiffel Tower and Olympic rings in the background. The style should be a colorful and whimsical illustration.\"\n",
    "\n",
    "response = client.images.generate(prompt=prompt, model=\"imagen-3\")\n",
    "\n",
    "# Display the generated image\n",
    "display(Image(url=response.images[0].url))"
   ]
  },
  {
   "cell_type": "markdown",
   "metadata": {},
   "source": [
    "## Creating a Video (Placeholder)\n",
    "\n",
    "While we can't generate a video directly in this notebook, you can use a text-to-video model like Veo to bring our story to life. You would provide the generated book cover image, and Veo could generate a video based on the image.\n",
    "\n",
    "For example, you could take the generated book cover and use it as a prompt for Veo:\n",
    "\n",
    "```\n",
    "Prompt for Veo:\n",
    "\n",
    "Animate this book cover. Make the clouds move, the characters blink, and the Olympic rings sparkle.\n",
    "```\n",
    "\n",
    "This would create a short animated video of the book cover!"
   ]
  }
 ],
 "metadata": {},
 "nbformat": 4,
 "nbformat_minor": 2
}